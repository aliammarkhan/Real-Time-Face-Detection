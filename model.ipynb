{
  "nbformat": 4,
  "nbformat_minor": 0,
  "metadata": {
    "colab": {
      "name": "model.ipynb",
      "provenance": [],
      "collapsed_sections": []
    },
    "kernelspec": {
      "name": "python3",
      "display_name": "Python 3"
    },
    "accelerator": "GPU"
  },
  "cells": [
    {
      "cell_type": "code",
      "metadata": {
        "id": "TqcHSIn_AeLy",
        "colab_type": "code",
        "colab": {}
      },
      "source": [
        "#used tensorflow 2.1.0\n",
        "pip install tensorflow==2.1.0\n"
      ],
      "execution_count": 15,
      "outputs": []
    },
    {
      "cell_type": "code",
      "metadata": {
        "id": "Jmpyh1H_88px",
        "colab_type": "code",
        "colab": {
          "base_uri": "https://localhost:8080/",
          "height": 1000
        },
        "outputId": "9f2fb9c5-9b67-4996-fe0b-0bd4c1ccba0a"
      },
      "source": [
        "#moving dataset from drive to collab env\n",
        "!mv /content/drive/'My Drive'/Dataset.zip /content/Dataset.zip\n",
        "!unzip /content/Dataset.zip #unziping dataset"
      ],
      "execution_count": 16,
      "outputs": [
        {
          "output_type": "stream",
          "text": [
            "Archive:  /content/Dataset.zip\n",
            "   creating: Dataset/\n",
            "   creating: Dataset/Train/\n",
            "   creating: Dataset/Train/Amy/\n",
            "  inflating: Dataset/Train/Amy/Amy Farrah Fowler_1.jpeg  \n",
            "  inflating: Dataset/Train/Amy/Amy Farrah Fowler_10.jpeg  \n",
            "  inflating: Dataset/Train/Amy/Amy Farrah Fowler_11.jpeg  \n",
            "  inflating: Dataset/Train/Amy/Amy Farrah Fowler_12.jpeg  \n",
            "  inflating: Dataset/Train/Amy/Amy Farrah Fowler_13.jpeg  \n",
            "  inflating: Dataset/Train/Amy/Amy Farrah Fowler_14.jpeg  \n",
            "  inflating: Dataset/Train/Amy/Amy Farrah Fowler_15.jpeg  \n",
            "  inflating: Dataset/Train/Amy/Amy Farrah Fowler_16.jpeg  \n",
            "  inflating: Dataset/Train/Amy/Amy Farrah Fowler_17.jpeg  \n",
            "  inflating: Dataset/Train/Amy/Amy Farrah Fowler_18.jpeg  \n",
            "  inflating: Dataset/Train/Amy/Amy Farrah Fowler_19.jpeg  \n",
            "  inflating: Dataset/Train/Amy/Amy Farrah Fowler_21.jpeg  \n",
            "  inflating: Dataset/Train/Amy/Amy Farrah Fowler_25.jpeg  \n",
            "  inflating: Dataset/Train/Amy/Amy Farrah Fowler_26.jpeg  \n",
            "  inflating: Dataset/Train/Amy/Amy Farrah Fowler_27.jpeg  \n",
            "  inflating: Dataset/Train/Amy/Amy Farrah Fowler_28.jpeg  \n",
            "  inflating: Dataset/Train/Amy/Amy Farrah Fowler_30.jpeg  \n",
            "  inflating: Dataset/Train/Amy/Amy Farrah Fowler_33.jpeg  \n",
            "  inflating: Dataset/Train/Amy/Amy Farrah Fowler_34.jpeg  \n",
            "  inflating: Dataset/Train/Amy/Amy Farrah Fowler_35.jpeg  \n",
            "  inflating: Dataset/Train/Amy/Amy Farrah Fowler_36.jpeg  \n",
            "  inflating: Dataset/Train/Amy/Amy Farrah Fowler_37.jpeg  \n",
            "  inflating: Dataset/Train/Amy/Amy Farrah Fowler_38.jpeg  \n",
            "  inflating: Dataset/Train/Amy/Amy Farrah Fowler_4.jpeg  \n",
            "  inflating: Dataset/Train/Amy/Amy Farrah Fowler_40.jpeg  \n",
            "  inflating: Dataset/Train/Amy/Amy Farrah Fowler_41.jpeg  \n",
            "  inflating: Dataset/Train/Amy/Amy Farrah Fowler_42.jpeg  \n",
            "  inflating: Dataset/Train/Amy/Amy Farrah Fowler_45.jpeg  \n",
            "  inflating: Dataset/Train/Amy/Amy Farrah Fowler_50.jpeg  \n",
            "  inflating: Dataset/Train/Amy/Amy Farrah Fowler_6.jpeg  \n",
            "  inflating: Dataset/Train/Amy/Amy Farrah Fowler_8.jpeg  \n",
            "  inflating: Dataset/Train/Amy/Amy Farrah Fowler_9.jpeg  \n",
            "   creating: Dataset/Train/Bernadette/\n",
            "  inflating: Dataset/Train/Bernadette/Bernadette Wolowitz_11.jpeg  \n",
            "  inflating: Dataset/Train/Bernadette/Bernadette Wolowitz_12.jpeg  \n",
            "  inflating: Dataset/Train/Bernadette/Bernadette Wolowitz_14.jpeg  \n",
            "  inflating: Dataset/Train/Bernadette/Bernadette Wolowitz_15.jpeg  \n",
            "  inflating: Dataset/Train/Bernadette/Bernadette Wolowitz_16.jpeg  \n",
            "  inflating: Dataset/Train/Bernadette/Bernadette Wolowitz_18.jpeg  \n",
            "  inflating: Dataset/Train/Bernadette/Bernadette Wolowitz_21.jpeg  \n",
            "  inflating: Dataset/Train/Bernadette/Bernadette Wolowitz_26.jpeg  \n",
            "  inflating: Dataset/Train/Bernadette/Bernadette Wolowitz_30.png  \n",
            "  inflating: Dataset/Train/Bernadette/Bernadette Wolowitz_35.jpeg  \n",
            "  inflating: Dataset/Train/Bernadette/Bernadette Wolowitz_42.jpeg  \n",
            "  inflating: Dataset/Train/Bernadette/Bernadette Wolowitz_49.jpeg  \n",
            "  inflating: Dataset/Train/Bernadette/Bernadette Wolowitz_5.jpeg  \n",
            "  inflating: Dataset/Train/Bernadette/Bernadette Wolowitz_50.jpeg  \n",
            "  inflating: Dataset/Train/Bernadette/Bernadette Wolowitz_6.jpeg  \n",
            "  inflating: Dataset/Train/Bernadette/Bernadette Wolowitz_7.png  \n",
            "  inflating: Dataset/Train/Bernadette/Bernadette Wolowitz_8.jpeg  \n",
            "   creating: Dataset/Train/Howard/\n",
            "  inflating: Dataset/Train/Howard/Howard Wolowitz_10.jpeg  \n",
            "  inflating: Dataset/Train/Howard/Howard Wolowitz_11.jpeg  \n",
            "  inflating: Dataset/Train/Howard/Howard Wolowitz_12.jpeg  \n",
            "  inflating: Dataset/Train/Howard/Howard Wolowitz_13.jpeg  \n",
            "  inflating: Dataset/Train/Howard/Howard Wolowitz_19.png  \n",
            "  inflating: Dataset/Train/Howard/Howard Wolowitz_2.jpeg  \n",
            "  inflating: Dataset/Train/Howard/Howard Wolowitz_24.jpeg  \n",
            "  inflating: Dataset/Train/Howard/Howard Wolowitz_28.jpeg  \n",
            "  inflating: Dataset/Train/Howard/Howard Wolowitz_35.jpeg  \n",
            "  inflating: Dataset/Train/Howard/Howard Wolowitz_37.jpeg  \n",
            "  inflating: Dataset/Train/Howard/Howard Wolowitz_4.jpeg  \n",
            "  inflating: Dataset/Train/Howard/Howard Wolowitz_40.jpeg  \n",
            "  inflating: Dataset/Train/Howard/Howard Wolowitz_41.jpeg  \n",
            "  inflating: Dataset/Train/Howard/Howard Wolowitz_43.jpeg  \n",
            "  inflating: Dataset/Train/Howard/Howard Wolowitz_8.jpeg  \n",
            "  inflating: Dataset/Train/Howard/Howard Wolowitz_9.jpeg  \n",
            "   creating: Dataset/Train/Leonard/\n",
            "  inflating: Dataset/Train/Leonard/Leonard Hofstadter_10.jpeg  \n",
            "  inflating: Dataset/Train/Leonard/Leonard Hofstadter_11.jpeg  \n",
            "  inflating: Dataset/Train/Leonard/Leonard Hofstadter_14.jpeg  \n",
            "  inflating: Dataset/Train/Leonard/Leonard Hofstadter_15.jpeg  \n",
            "  inflating: Dataset/Train/Leonard/Leonard Hofstadter_16.jpeg  \n",
            "  inflating: Dataset/Train/Leonard/Leonard Hofstadter_17.jpeg  \n",
            "  inflating: Dataset/Train/Leonard/Leonard Hofstadter_2.jpeg  \n",
            "  inflating: Dataset/Train/Leonard/Leonard Hofstadter_20.jpeg  \n",
            "  inflating: Dataset/Train/Leonard/Leonard Hofstadter_22.jpeg  \n",
            "  inflating: Dataset/Train/Leonard/Leonard Hofstadter_23.jpeg  \n",
            "  inflating: Dataset/Train/Leonard/Leonard Hofstadter_25.png  \n",
            "  inflating: Dataset/Train/Leonard/Leonard Hofstadter_29.jpeg  \n",
            "  inflating: Dataset/Train/Leonard/Leonard Hofstadter_31.jpeg  \n",
            "  inflating: Dataset/Train/Leonard/Leonard Hofstadter_35.jpeg  \n",
            "  inflating: Dataset/Train/Leonard/Leonard Hofstadter_5.jpeg  \n",
            "  inflating: Dataset/Train/Leonard/Leonard Hofstadter_50.jpeg  \n",
            "  inflating: Dataset/Train/Leonard/Leonard Hofstadter_6.jpeg  \n",
            "  inflating: Dataset/Train/Leonard/Leonard Hofstadter_7.jpeg  \n",
            "  inflating: Dataset/Train/Leonard/Leonard Hofstadter_8.jpeg  \n",
            "  inflating: Dataset/Train/Leonard/Leonard Hofstadter_9.png  \n",
            "   creating: Dataset/Train/Penny/\n",
            "  inflating: Dataset/Train/Penny/Penny Hofstadter_1.jpeg  \n",
            "  inflating: Dataset/Train/Penny/Penny Hofstadter_10.jpeg  \n",
            "  inflating: Dataset/Train/Penny/Penny Hofstadter_11.jpeg  \n",
            "  inflating: Dataset/Train/Penny/Penny Hofstadter_13.jpeg  \n",
            "  inflating: Dataset/Train/Penny/Penny Hofstadter_14.jpeg  \n",
            "  inflating: Dataset/Train/Penny/Penny Hofstadter_17.jpeg  \n",
            "  inflating: Dataset/Train/Penny/Penny Hofstadter_2.png  \n",
            "  inflating: Dataset/Train/Penny/Penny Hofstadter_21.jpeg  \n",
            "  inflating: Dataset/Train/Penny/Penny Hofstadter_23.jpeg  \n",
            "  inflating: Dataset/Train/Penny/Penny Hofstadter_25.jpeg  \n",
            "  inflating: Dataset/Train/Penny/Penny Hofstadter_27.jpeg  \n",
            "  inflating: Dataset/Train/Penny/Penny Hofstadter_3.jpeg  \n",
            "  inflating: Dataset/Train/Penny/Penny Hofstadter_30.jpeg  \n",
            "  inflating: Dataset/Train/Penny/Penny Hofstadter_32.jpeg  \n",
            "  inflating: Dataset/Train/Penny/Penny Hofstadter_33.jpeg  \n",
            "  inflating: Dataset/Train/Penny/Penny Hofstadter_38.jpeg  \n",
            "  inflating: Dataset/Train/Penny/Penny Hofstadter_41.png  \n",
            "  inflating: Dataset/Train/Penny/Penny Hofstadter_42.jpeg  \n",
            "  inflating: Dataset/Train/Penny/Penny Hofstadter_7.jpeg  \n",
            "   creating: Dataset/Train/Raj/\n",
            "  inflating: Dataset/Train/Raj/Raj Koothrappali_12.jpeg  \n",
            "  inflating: Dataset/Train/Raj/Raj Koothrappali_13.jpeg  \n",
            "  inflating: Dataset/Train/Raj/Raj Koothrappali_14.jpeg  \n",
            "  inflating: Dataset/Train/Raj/Raj Koothrappali_15.jpeg  \n",
            "  inflating: Dataset/Train/Raj/Raj Koothrappali_16.jpeg  \n",
            "  inflating: Dataset/Train/Raj/Raj Koothrappali_18.jpeg  \n",
            "  inflating: Dataset/Train/Raj/Raj Koothrappali_2.jpeg  \n",
            "  inflating: Dataset/Train/Raj/Raj Koothrappali_20.jpeg  \n",
            "  inflating: Dataset/Train/Raj/Raj Koothrappali_21.jpeg  \n",
            "  inflating: Dataset/Train/Raj/Raj Koothrappali_23.png  \n",
            "  inflating: Dataset/Train/Raj/Raj Koothrappali_25.jpeg  \n",
            "  inflating: Dataset/Train/Raj/Raj Koothrappali_3.jpeg  \n",
            "  inflating: Dataset/Train/Raj/Raj Koothrappali_31.jpeg  \n",
            "  inflating: Dataset/Train/Raj/Raj Koothrappali_36.jpeg  \n",
            "  inflating: Dataset/Train/Raj/Raj Koothrappali_37.jpeg  \n",
            "  inflating: Dataset/Train/Raj/Raj Koothrappali_41.jpeg  \n",
            "  inflating: Dataset/Train/Raj/Raj Koothrappali_43.jpeg  \n",
            "  inflating: Dataset/Train/Raj/Raj Koothrappali_45.jpeg  \n",
            "  inflating: Dataset/Train/Raj/Raj Koothrappali_47.jpeg  \n",
            "  inflating: Dataset/Train/Raj/Raj Koothrappali_5.jpeg  \n",
            "  inflating: Dataset/Train/Raj/Raj Koothrappali_6.jpeg  \n",
            "  inflating: Dataset/Train/Raj/Raj Koothrappali_7.jpeg  \n",
            "   creating: Dataset/Train/Sheldon/\n",
            "  inflating: Dataset/Train/Sheldon/Sheldon Cooper_10.jpeg  \n",
            "  inflating: Dataset/Train/Sheldon/Sheldon Cooper_11.jpeg  \n",
            "  inflating: Dataset/Train/Sheldon/Sheldon Cooper_12.jpeg  \n",
            "  inflating: Dataset/Train/Sheldon/Sheldon Cooper_13.jpeg  \n",
            "  inflating: Dataset/Train/Sheldon/Sheldon Cooper_14.jpeg  \n",
            "  inflating: Dataset/Train/Sheldon/Sheldon Cooper_16.jpeg  \n",
            "  inflating: Dataset/Train/Sheldon/Sheldon Cooper_17.jpeg  \n",
            "  inflating: Dataset/Train/Sheldon/Sheldon Cooper_18.jpeg  \n",
            "  inflating: Dataset/Train/Sheldon/Sheldon Cooper_19.jpeg  \n",
            "  inflating: Dataset/Train/Sheldon/Sheldon Cooper_2.jpeg  \n",
            "  inflating: Dataset/Train/Sheldon/Sheldon Cooper_20.jpeg  \n",
            "  inflating: Dataset/Train/Sheldon/Sheldon Cooper_21.jpeg  \n",
            "  inflating: Dataset/Train/Sheldon/Sheldon Cooper_22.jpeg  \n",
            "  inflating: Dataset/Train/Sheldon/Sheldon Cooper_23.png  \n",
            "  inflating: Dataset/Train/Sheldon/Sheldon Cooper_24.jpeg  \n",
            "  inflating: Dataset/Train/Sheldon/Sheldon Cooper_26.jpeg  \n",
            "  inflating: Dataset/Train/Sheldon/Sheldon Cooper_27.jpeg  \n",
            "  inflating: Dataset/Train/Sheldon/Sheldon Cooper_28.jpeg  \n",
            "  inflating: Dataset/Train/Sheldon/Sheldon Cooper_29.jpeg  \n",
            "  inflating: Dataset/Train/Sheldon/Sheldon Cooper_3.jpeg  \n",
            "  inflating: Dataset/Train/Sheldon/Sheldon Cooper_30.jpeg  \n",
            "  inflating: Dataset/Train/Sheldon/Sheldon Cooper_31.jpeg  \n",
            "  inflating: Dataset/Train/Sheldon/Sheldon Cooper_34.jpeg  \n",
            "  inflating: Dataset/Train/Sheldon/Sheldon Cooper_35.jpeg  \n",
            "  inflating: Dataset/Train/Sheldon/Sheldon Cooper_37.jpeg  \n",
            "  inflating: Dataset/Train/Sheldon/Sheldon Cooper_39.jpeg  \n",
            "  inflating: Dataset/Train/Sheldon/Sheldon Cooper_4.jpeg  \n",
            "  inflating: Dataset/Train/Sheldon/Sheldon Cooper_40.jpeg  \n",
            "  inflating: Dataset/Train/Sheldon/Sheldon Cooper_41.jpeg  \n",
            "  inflating: Dataset/Train/Sheldon/Sheldon Cooper_42.jpeg  \n",
            "  inflating: Dataset/Train/Sheldon/Sheldon Cooper_44.jpeg  \n",
            "  inflating: Dataset/Train/Sheldon/Sheldon Cooper_49.jpeg  \n",
            "  inflating: Dataset/Train/Sheldon/Sheldon Cooper_5.jpeg  \n",
            "  inflating: Dataset/Train/Sheldon/Sheldon Cooper_7.jpeg  \n",
            "  inflating: Dataset/Train/Sheldon/Sheldon Cooper_9.jpeg  \n"
          ],
          "name": "stdout"
        }
      ]
    },
    {
      "cell_type": "code",
      "metadata": {
        "id": "Ohej-mIvGKWS",
        "colab_type": "code",
        "colab": {
          "base_uri": "https://localhost:8080/",
          "height": 34
        },
        "outputId": "da553c8b-628d-469e-8392-5931dd9f544a"
      },
      "source": [
        "import tensorflow as tf\n",
        "from tensorflow.keras import layers\n",
        "from tensorflow.keras import Model\n",
        "from tensorflow.keras.applications.vgg16 import VGG16\n",
        "from tensorflow.keras.applications.vgg16 import preprocess_input\n",
        "print(tf.__version__)"
      ],
      "execution_count": 1,
      "outputs": [
        {
          "output_type": "stream",
          "text": [
            "2.1.0\n"
          ],
          "name": "stdout"
        }
      ]
    },
    {
      "cell_type": "code",
      "metadata": {
        "id": "iBPniX68GYi6",
        "colab_type": "code",
        "colab": {}
      },
      "source": [
        "vgg = VGG16(input_shape=[224,224,3], weights='imagenet', include_top=False) #importing VGG16"
      ],
      "execution_count": 140,
      "outputs": []
    },
    {
      "cell_type": "code",
      "metadata": {
        "id": "YmPLn5SIGqbJ",
        "colab_type": "code",
        "colab": {}
      },
      "source": [
        "#Dont train the layers again\n",
        "for layer in vgg.layers:\n",
        "  layer.trainable = False "
      ],
      "execution_count": 141,
      "outputs": []
    },
    {
      "cell_type": "code",
      "metadata": {
        "id": "ofLZbsElHCiP",
        "colab_type": "code",
        "colab": {}
      },
      "source": [
        "import os\n",
        "classes = len(os.listdir('/content/Dataset/Train/')) # getting no of classes "
      ],
      "execution_count": 166,
      "outputs": []
    },
    {
      "cell_type": "code",
      "metadata": {
        "id": "Go3o40OcJYmE",
        "colab_type": "code",
        "colab": {
          "base_uri": "https://localhost:8080/",
          "height": 34
        },
        "outputId": "d2e97539-5b0b-4431-f87f-98a892ad5e1f"
      },
      "source": [
        "print(\"No of classes are: {}\".format(classes))\n"
      ],
      "execution_count": 167,
      "outputs": [
        {
          "output_type": "stream",
          "text": [
            "No of classes are: 7\n"
          ],
          "name": "stdout"
        }
      ]
    },
    {
      "cell_type": "code",
      "metadata": {
        "id": "pvleV6NUHo0Z",
        "colab_type": "code",
        "colab": {}
      },
      "source": [
        "# Flatten the output layer to 1 dimension\n",
        "x = layers.Flatten()(vgg.output)\n",
        "#hidden layer with 1024 hidden units and relu activation\n",
        "#x =  layers.Dense(1024, activation='relu')(x)\n",
        "# Add a final sigmoid layer for classification\n",
        "x = layers.Dense  (classes, activation='softmax')(x)         \n"
      ],
      "execution_count": 175,
      "outputs": []
    },
    {
      "cell_type": "code",
      "metadata": {
        "id": "TMymGaHrIMuG",
        "colab_type": "code",
        "colab": {}
      },
      "source": [
        "model = Model(inputs=vgg.input, outputs=x) # defining model object"
      ],
      "execution_count": 176,
      "outputs": []
    },
    {
      "cell_type": "code",
      "metadata": {
        "id": "ZuTT8AqcISsz",
        "colab_type": "code",
        "colab": {
          "base_uri": "https://localhost:8080/",
          "height": 867
        },
        "outputId": "0f78b287-e3ae-4128-9e60-dabe499bbc99"
      },
      "source": [
        "model.summary()"
      ],
      "execution_count": 177,
      "outputs": [
        {
          "output_type": "stream",
          "text": [
            "Model: \"model_8\"\n",
            "_________________________________________________________________\n",
            "Layer (type)                 Output Shape              Param #   \n",
            "=================================================================\n",
            "input_5 (InputLayer)         [(None, 224, 224, 3)]     0         \n",
            "_________________________________________________________________\n",
            "block1_conv1 (Conv2D)        (None, 224, 224, 64)      1792      \n",
            "_________________________________________________________________\n",
            "block1_conv2 (Conv2D)        (None, 224, 224, 64)      36928     \n",
            "_________________________________________________________________\n",
            "block1_pool (MaxPooling2D)   (None, 112, 112, 64)      0         \n",
            "_________________________________________________________________\n",
            "block2_conv1 (Conv2D)        (None, 112, 112, 128)     73856     \n",
            "_________________________________________________________________\n",
            "block2_conv2 (Conv2D)        (None, 112, 112, 128)     147584    \n",
            "_________________________________________________________________\n",
            "block2_pool (MaxPooling2D)   (None, 56, 56, 128)       0         \n",
            "_________________________________________________________________\n",
            "block3_conv1 (Conv2D)        (None, 56, 56, 256)       295168    \n",
            "_________________________________________________________________\n",
            "block3_conv2 (Conv2D)        (None, 56, 56, 256)       590080    \n",
            "_________________________________________________________________\n",
            "block3_conv3 (Conv2D)        (None, 56, 56, 256)       590080    \n",
            "_________________________________________________________________\n",
            "block3_pool (MaxPooling2D)   (None, 28, 28, 256)       0         \n",
            "_________________________________________________________________\n",
            "block4_conv1 (Conv2D)        (None, 28, 28, 512)       1180160   \n",
            "_________________________________________________________________\n",
            "block4_conv2 (Conv2D)        (None, 28, 28, 512)       2359808   \n",
            "_________________________________________________________________\n",
            "block4_conv3 (Conv2D)        (None, 28, 28, 512)       2359808   \n",
            "_________________________________________________________________\n",
            "block4_pool (MaxPooling2D)   (None, 14, 14, 512)       0         \n",
            "_________________________________________________________________\n",
            "block5_conv1 (Conv2D)        (None, 14, 14, 512)       2359808   \n",
            "_________________________________________________________________\n",
            "block5_conv2 (Conv2D)        (None, 14, 14, 512)       2359808   \n",
            "_________________________________________________________________\n",
            "block5_conv3 (Conv2D)        (None, 14, 14, 512)       2359808   \n",
            "_________________________________________________________________\n",
            "block5_pool (MaxPooling2D)   (None, 7, 7, 512)         0         \n",
            "_________________________________________________________________\n",
            "flatten_7 (Flatten)          (None, 25088)             0         \n",
            "_________________________________________________________________\n",
            "dense_7 (Dense)              (None, 7)                 175623    \n",
            "=================================================================\n",
            "Total params: 14,890,311\n",
            "Trainable params: 175,623\n",
            "Non-trainable params: 14,714,688\n",
            "_________________________________________________________________\n"
          ],
          "name": "stdout"
        }
      ]
    },
    {
      "cell_type": "code",
      "metadata": {
        "id": "6vJjxuI8IUEZ",
        "colab_type": "code",
        "colab": {}
      },
      "source": [
        "# compiling model\n",
        "model.compile(\n",
        "  loss='categorical_crossentropy',\n",
        "  optimizer='adam',\n",
        "  metrics=['accuracy']\n",
        ")\n"
      ],
      "execution_count": 178,
      "outputs": []
    },
    {
      "cell_type": "code",
      "metadata": {
        "id": "uuFhYtw8IXcL",
        "colab_type": "code",
        "colab": {}
      },
      "source": [
        "from tensorflow.keras.preprocessing.image import ImageDataGenerator\n",
        "#image augmentaton\n",
        "train_datagen = ImageDataGenerator(rescale = 1./255.,\n",
        "                                   rotation_range = 40,\n",
        "                                   width_shift_range = 0.2,\n",
        "                                   height_shift_range = 0.2,\n",
        "                                   shear_range = 0.2,\n",
        "                                   zoom_range = 0.2,\n",
        "                                   )"
      ],
      "execution_count": 179,
      "outputs": []
    },
    {
      "cell_type": "code",
      "metadata": {
        "id": "NkXasIoEIkhg",
        "colab_type": "code",
        "colab": {
          "base_uri": "https://localhost:8080/",
          "height": 34
        },
        "outputId": "b5d36ea0-7d2c-453c-b3d6-5185bba0c6de"
      },
      "source": [
        "training_set = train_datagen.flow_from_directory('/content/Dataset/Train',\n",
        "                                                 target_size = (224, 224),\n",
        "                                                 batch_size = 32,\n",
        "                                                 class_mode = 'categorical')"
      ],
      "execution_count": 180,
      "outputs": [
        {
          "output_type": "stream",
          "text": [
            "Found 161 images belonging to 7 classes.\n"
          ],
          "name": "stdout"
        }
      ]
    },
    {
      "cell_type": "code",
      "metadata": {
        "id": "kg6pFQssI0_U",
        "colab_type": "code",
        "colab": {
          "base_uri": "https://localhost:8080/",
          "height": 1000
        },
        "outputId": "21c219a4-1c86-44ac-f01c-4cea1df6f1b1"
      },
      "source": [
        "# fitting  the model\n",
        "history = model.fit_generator(\n",
        "  training_set,\n",
        "  epochs=50,\n",
        "  steps_per_epoch=len(training_set),\n",
        " )"
      ],
      "execution_count": 182,
      "outputs": [
        {
          "output_type": "stream",
          "text": [
            "WARNING:tensorflow:sample_weight modes were coerced from\n",
            "  ...\n",
            "    to  \n",
            "  ['...']\n",
            "Train for 6 steps\n",
            "Epoch 1/50\n",
            "6/6 [==============================] - 2s 365ms/step - loss: 3.3033 - accuracy: 0.1801\n",
            "Epoch 2/50\n",
            "6/6 [==============================] - 2s 358ms/step - loss: 2.2109 - accuracy: 0.3106\n",
            "Epoch 3/50\n",
            "6/6 [==============================] - 2s 358ms/step - loss: 1.6506 - accuracy: 0.4410\n",
            "Epoch 4/50\n",
            "6/6 [==============================] - 2s 362ms/step - loss: 1.2408 - accuracy: 0.4783\n",
            "Epoch 5/50\n",
            "6/6 [==============================] - 2s 367ms/step - loss: 1.5891 - accuracy: 0.5404\n",
            "Epoch 6/50\n",
            "6/6 [==============================] - 2s 363ms/step - loss: 1.0642 - accuracy: 0.5652\n",
            "Epoch 7/50\n",
            "6/6 [==============================] - 2s 358ms/step - loss: 1.0413 - accuracy: 0.6087\n",
            "Epoch 8/50\n",
            "6/6 [==============================] - 2s 359ms/step - loss: 0.8408 - accuracy: 0.6708\n",
            "Epoch 9/50\n",
            "6/6 [==============================] - 2s 361ms/step - loss: 0.6837 - accuracy: 0.7205\n",
            "Epoch 10/50\n",
            "6/6 [==============================] - 2s 356ms/step - loss: 0.7667 - accuracy: 0.7081\n",
            "Epoch 11/50\n",
            "6/6 [==============================] - 2s 358ms/step - loss: 0.9202 - accuracy: 0.6646\n",
            "Epoch 12/50\n",
            "6/6 [==============================] - 2s 360ms/step - loss: 0.6434 - accuracy: 0.7267\n",
            "Epoch 13/50\n",
            "6/6 [==============================] - 2s 359ms/step - loss: 0.7064 - accuracy: 0.7578\n",
            "Epoch 14/50\n",
            "6/6 [==============================] - 2s 359ms/step - loss: 0.6425 - accuracy: 0.7329\n",
            "Epoch 15/50\n",
            "6/6 [==============================] - 2s 356ms/step - loss: 0.5384 - accuracy: 0.7888\n",
            "Epoch 16/50\n",
            "6/6 [==============================] - 2s 362ms/step - loss: 0.5436 - accuracy: 0.8261\n",
            "Epoch 17/50\n",
            "6/6 [==============================] - 2s 356ms/step - loss: 0.4874 - accuracy: 0.7888\n",
            "Epoch 18/50\n",
            "6/6 [==============================] - 2s 357ms/step - loss: 0.4170 - accuracy: 0.8571\n",
            "Epoch 19/50\n",
            "6/6 [==============================] - 2s 361ms/step - loss: 0.4818 - accuracy: 0.8075\n",
            "Epoch 20/50\n",
            "6/6 [==============================] - 2s 355ms/step - loss: 0.4558 - accuracy: 0.8012\n",
            "Epoch 21/50\n",
            "6/6 [==============================] - 2s 364ms/step - loss: 0.4445 - accuracy: 0.8199\n",
            "Epoch 22/50\n",
            "6/6 [==============================] - 2s 360ms/step - loss: 0.3573 - accuracy: 0.8882\n",
            "Epoch 23/50\n",
            "6/6 [==============================] - 2s 363ms/step - loss: 0.3128 - accuracy: 0.9006\n",
            "Epoch 24/50\n",
            "6/6 [==============================] - 2s 364ms/step - loss: 0.3016 - accuracy: 0.9130\n",
            "Epoch 25/50\n",
            "6/6 [==============================] - 2s 362ms/step - loss: 0.2504 - accuracy: 0.9317\n",
            "Epoch 26/50\n",
            "6/6 [==============================] - 2s 361ms/step - loss: 0.2695 - accuracy: 0.9130\n",
            "Epoch 27/50\n",
            "6/6 [==============================] - 2s 359ms/step - loss: 0.3028 - accuracy: 0.8571\n",
            "Epoch 28/50\n",
            "6/6 [==============================] - 2s 360ms/step - loss: 0.2896 - accuracy: 0.9068\n",
            "Epoch 29/50\n",
            "6/6 [==============================] - 2s 361ms/step - loss: 0.2753 - accuracy: 0.9130\n",
            "Epoch 30/50\n",
            "6/6 [==============================] - 2s 359ms/step - loss: 0.2505 - accuracy: 0.9130\n",
            "Epoch 31/50\n",
            "6/6 [==============================] - 2s 360ms/step - loss: 0.1834 - accuracy: 0.9627\n",
            "Epoch 32/50\n",
            "6/6 [==============================] - 2s 365ms/step - loss: 0.2508 - accuracy: 0.9317\n",
            "Epoch 33/50\n",
            "6/6 [==============================] - 2s 361ms/step - loss: 0.2404 - accuracy: 0.9317\n",
            "Epoch 34/50\n",
            "6/6 [==============================] - 2s 360ms/step - loss: 0.2596 - accuracy: 0.8882\n",
            "Epoch 35/50\n",
            "6/6 [==============================] - 2s 361ms/step - loss: 0.2228 - accuracy: 0.9317\n",
            "Epoch 36/50\n",
            "6/6 [==============================] - 2s 360ms/step - loss: 0.2263 - accuracy: 0.9255\n",
            "Epoch 37/50\n",
            "6/6 [==============================] - 2s 359ms/step - loss: 0.2249 - accuracy: 0.9130\n",
            "Epoch 38/50\n",
            "6/6 [==============================] - 2s 358ms/step - loss: 0.1717 - accuracy: 0.9503\n",
            "Epoch 39/50\n",
            "6/6 [==============================] - 2s 360ms/step - loss: 0.1774 - accuracy: 0.9627\n",
            "Epoch 40/50\n",
            "6/6 [==============================] - 2s 360ms/step - loss: 0.1620 - accuracy: 0.9627\n",
            "Epoch 41/50\n",
            "6/6 [==============================] - 2s 358ms/step - loss: 0.1775 - accuracy: 0.9441\n",
            "Epoch 42/50\n",
            "6/6 [==============================] - 2s 358ms/step - loss: 0.1522 - accuracy: 0.9503\n",
            "Epoch 43/50\n",
            "6/6 [==============================] - 2s 360ms/step - loss: 0.1978 - accuracy: 0.9130\n",
            "Epoch 44/50\n",
            "6/6 [==============================] - 2s 359ms/step - loss: 0.1854 - accuracy: 0.9503\n",
            "Epoch 45/50\n",
            "6/6 [==============================] - 2s 361ms/step - loss: 0.1668 - accuracy: 0.9441\n",
            "Epoch 46/50\n",
            "6/6 [==============================] - 2s 360ms/step - loss: 0.1430 - accuracy: 0.9627\n",
            "Epoch 47/50\n",
            "6/6 [==============================] - 2s 356ms/step - loss: 0.1536 - accuracy: 0.9627\n",
            "Epoch 48/50\n",
            "6/6 [==============================] - 2s 361ms/step - loss: 0.1761 - accuracy: 0.9441\n",
            "Epoch 49/50\n",
            "6/6 [==============================] - 2s 361ms/step - loss: 0.1657 - accuracy: 0.9503\n",
            "Epoch 50/50\n",
            "6/6 [==============================] - 2s 363ms/step - loss: 0.1724 - accuracy: 0.9441\n"
          ],
          "name": "stdout"
        }
      ]
    },
    {
      "cell_type": "code",
      "metadata": {
        "id": "XARHWT_aMWS2",
        "colab_type": "code",
        "colab": {
          "base_uri": "https://localhost:8080/",
          "height": 521
        },
        "outputId": "ff3f2b6e-1167-4c35-9998-a03d71bd6301"
      },
      "source": [
        "import matplotlib.pyplot as plt\n",
        "# loss\n",
        "plt.plot(history.history['loss'], label='train loss')\n",
        "plt.legend()\n",
        "plt.show()\n",
        "\n",
        "\n",
        "# accuracies\n",
        "plt.plot(history.history['accuracy'], label='train accuracy')\n",
        "plt.legend()\n",
        "plt.show()"
      ],
      "execution_count": 183,
      "outputs": [
        {
          "output_type": "display_data",
          "data": {
            "image/png": "[encoded data removed]",
            "text/plain": [
              "<Figure size 432x288 with 1 Axes>"
            ]
          },
          "metadata": {
            "tags": [],
            "needs_background": "light"
          }
        },
        {
          "output_type": "display_data",
          "data": {
            "image/png": "[encoded data removed]",
            "text/plain": [
              "<Figure size 432x288 with 1 Axes>"
            ]
          },
          "metadata": {
            "tags": [],
            "needs_background": "light"
          }
        }
      ]
    },
    {
      "cell_type": "code",
      "metadata": {
        "id": "5t80bHucMxtM",
        "colab_type": "code",
        "colab": {}
      },
      "source": [
        "model.save('model.h5') #saving model"
      ],
      "execution_count": 199,
      "outputs": []
    },
    {
      "cell_type": "code",
      "metadata": {
        "id": "qKsocRcyNUHQ",
        "colab_type": "code",
        "colab": {
          "base_uri": "https://localhost:8080/",
          "height": 34
        },
        "outputId": "32791867-d360-4856-d318-f65603ff7c8a"
      },
      "source": [
        "from google.colab import files\n",
        "files.download('/content/model.h5')  #downloading model "
      ],
      "execution_count": 29,
      "outputs": [
        {
          "output_type": "display_data",
          "data": {
            "application/javascript": [
              "\n",
              "    async function download(id, filename, size) {\n",
              "      if (!google.colab.kernel.accessAllowed) {\n",
              "        return;\n",
              "      }\n",
              "      const div = document.createElement('div');\n",
              "      const label = document.createElement('label');\n",
              "      label.textContent = `Downloading \"${filename}\": `;\n",
              "      div.appendChild(label);\n",
              "      const progress = document.createElement('progress');\n",
              "      progress.max = size;\n",
              "      div.appendChild(progress);\n",
              "      document.body.appendChild(div);\n",
              "\n",
              "      const buffers = [];\n",
              "      let downloaded = 0;\n",
              "\n",
              "      const channel = await google.colab.kernel.comms.open(id);\n",
              "      // Send a message to notify the kernel that we're ready.\n",
              "      channel.send({})\n",
              "\n",
              "      for await (const message of channel.messages) {\n",
              "        // Send a message to notify the kernel that we're ready.\n",
              "        channel.send({})\n",
              "        if (message.buffers) {\n",
              "          for (const buffer of message.buffers) {\n",
              "            buffers.push(buffer);\n",
              "            downloaded += buffer.byteLength;\n",
              "            progress.value = downloaded;\n",
              "          }\n",
              "        }\n",
              "      }\n",
              "      const blob = new Blob(buffers, {type: 'application/binary'});\n",
              "      const a = document.createElement('a');\n",
              "      a.href = window.URL.createObjectURL(blob);\n",
              "      a.download = filename;\n",
              "      div.appendChild(a);\n",
              "      a.click();\n",
              "      div.remove();\n",
              "    }\n",
              "  "
            ],
            "text/plain": [
              "<IPython.core.display.Javascript object>"
            ]
          },
          "metadata": {
            "tags": []
          }
        },
        {
          "output_type": "display_data",
          "data": {
            "application/javascript": [
              "download(\"download_75052305-3764-4ee8-abb0-46529a737692\", \"model.h5\", 367325784)"
            ],
            "text/plain": [
              "<IPython.core.display.Javascript object>"
            ]
          },
          "metadata": {
            "tags": []
          }
        }
      ]
    }
  ]
}